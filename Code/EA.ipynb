{
 "cells": [
  {
   "cell_type": "code",
   "execution_count": 16,
   "id": "689fff04",
   "metadata": {},
   "outputs": [],
   "source": [
    "from deap import base, creator, tools, algorithms\n",
    "import numpy as np\n",
    "from scipy.integrate import odeint\n",
    "from scipy.integrate import solve_ivp\n",
    "from scipy.optimize import curve_fit\n",
    "import random\n",
    "import pandas as pd\n",
    "import matplotlib.pyplot as plt"
   ]
  },
  {
   "cell_type": "code",
   "execution_count": 4,
   "id": "a82799c1",
   "metadata": {},
   "outputs": [],
   "source": [
    "def sir_model1(y, t, beta, gamma, N):\n",
    "    S, I, R = y\n",
    "    dSdt = -beta * S * I / N\n",
    "    dIdt = beta * S * I / N - gamma * I\n",
    "    dRdt = gamma * I\n",
    "    return [dSdt, dIdt, dRdt]"
   ]
  },
  {
   "cell_type": "code",
   "execution_count": 5,
   "id": "c784a636",
   "metadata": {},
   "outputs": [],
   "source": [
    "def fitness_function(params, t, data_I, N):\n",
    "    beta, gamma = params\n",
    "    S0, I0, R0 = N - data_I[0], data_I[0], 0  # Assume S0 is total population minus initial I\n",
    "    y0 = S0, I0, R0\n",
    "\n",
    "    # Solve ODEs\n",
    "    sol = odeint(sir_model1, y0, t, args=(beta, gamma, N))\n",
    "\n",
    "    # Compute the squared error for the infected population\n",
    "    I_model = sol[:, 1]  # Extract the infected population from the model\n",
    "    error_I = np.sum((I_model - data_I) ** 2)\n",
    "\n",
    "    return error_I,"
   ]
  },
  {
   "cell_type": "code",
   "execution_count": 6,
   "id": "22678a4a",
   "metadata": {},
   "outputs": [],
   "source": [
    "def sir_model(t, y, beta, gamma):\n",
    "    '''' y is tuple with \n",
    "    (S, I, R) - > (Voters (infuencible), Opioniated voters (voter percentage for chosen candidate), Recovered (Voters who change sides) \n",
    "    \n",
    "    '''\n",
    "    S, I, R = y\n",
    "    dSdt = -beta * S * I # It can go both ways ? \n",
    "    dIdt = beta * S * I - gamma * I # what is the mechanism for this. What is gamma a function of ? \n",
    "    dRdt = gamma * I # potenitally, beta and gamma are funcitons of time ? \n",
    "    return [dSdt, dIdt, dRdt]"
   ]
  },
  {
   "cell_type": "code",
   "execution_count": 7,
   "id": "ab1f63bb",
   "metadata": {},
   "outputs": [],
   "source": [
    "def fit_sir_model(t, beta, gamma, S0, I0, R0):\n",
    "    '''What is the return value?'''\n",
    "    sol = solve_ivp(sir_model, [t[0], t[-1]], [S0, I0, R0], t_eval=t, args=(beta, gamma))\n",
    "    return sol.y[1] # returns S, I, R as they change wrt time. y[1] gives I "
   ]
  },
  {
   "cell_type": "code",
   "execution_count": 8,
   "id": "c36cbf48",
   "metadata": {},
   "outputs": [],
   "source": [
    "def run_ga(data_I, t, N):\n",
    "    # Define the problem as a minimization problem\n",
    "    creator.create(\"FitnessMin\", base.Fitness, weights=(-1.0,))  # Minimize fitness\n",
    "    creator.create(\"Individual\", list, fitness=creator.FitnessMin)\n",
    "\n",
    "    # Initialize the individual and population\n",
    "    def create_individual():\n",
    "        return [random.uniform(0, 1) for _ in range(2)]  # Beta and Gamma values\n",
    "\n",
    "    # Register the components for the GA\n",
    "    toolbox = base.Toolbox()\n",
    "    toolbox.register(\"individual\", tools.initIterate, creator.Individual, create_individual)\n",
    "    toolbox.register(\"population\", tools.initRepeat, list, toolbox.individual)\n",
    "    toolbox.register(\"mate\", tools.cxBlend, alpha=0.5)\n",
    "    toolbox.register(\"mutate\", tools.mutGaussian, mu=0, sigma=0.1, indpb=0.2)\n",
    "    toolbox.register(\"select\", tools.selTournament, tournsize=3)\n",
    "    toolbox.register(\"evaluate\", fitness_function, t=t, data_I=data_I, N=N)\n",
    "\n",
    "    # Create the population\n",
    "    population = toolbox.population(n=50)\n",
    "\n",
    "    # Set the parameters for the genetic algorithm\n",
    "    ngen = 100  # number of generations\n",
    "    cxpb = 0.7  # probability of mating\n",
    "    mutpb = 0.2  # probability of mutation\n",
    "\n",
    "    # Run the genetic algorithm\n",
    "    algorithms.eaSimple(population, toolbox, cxpb=cxpb, mutpb=mutpb, ngen=ngen, \n",
    "                        stats=None, halloffame=None, verbose=True)\n",
    "\n",
    "    # Extract the best individual (solution)\n",
    "    best_individual = tools.selBest(population, 1)[0]\n",
    "    return best_individual"
   ]
  },
  {
   "cell_type": "code",
   "execution_count": 9,
   "id": "8e8d7cf2",
   "metadata": {},
   "outputs": [],
   "source": [
    "df = pd.read_csv(\"1976-2020-senate.csv\")"
   ]
  },
  {
   "cell_type": "code",
   "execution_count": 10,
   "id": "60b8f9a1",
   "metadata": {},
   "outputs": [],
   "source": [
    "selected_states = ['NEW HAMPSHIRE', 'NORTH CAROLINA', 'OKLAHOMA', 'OREGON', 'SOUTH CAROLINA', 'SOUTH DAKOTA']\n",
    "filtered_df = df[df['state'].isin(selected_states)]"
   ]
  },
  {
   "cell_type": "code",
   "execution_count": 11,
   "id": "b5dcb369",
   "metadata": {},
   "outputs": [],
   "source": [
    "states = filtered_df['state'].unique()\n",
    "party_order = ['REPUBLICAN', 'DEMOCRAT']\n",
    "colors = {'REPUBLICAN': 'red', 'DEMOCRAT': 'blue'} # BONUS \n",
    "df_dict = {}\n",
    "\n",
    "plot_index = 0\n",
    "for state in states:\n",
    "    for party in party_order:\n",
    "        state_party_data = df[(df['state'] == state) & (df['party_simplified'] == party)]\n",
    "        state_party_data = state_party_data[state_party_data['writein'] == False]\n",
    "        df_dict[(state, party)] = state_party_data"
   ]
  },
  {
   "cell_type": "code",
   "execution_count": 12,
   "id": "4f727fd1",
   "metadata": {},
   "outputs": [],
   "source": [
    "year = df_dict[('OREGON', 'REPUBLICAN')]['year'].values\n",
    "votes = df_dict[('OREGON', 'REPUBLICAN')]['candidatevotes'].values\n",
    "total_votes = df_dict[('OREGON', 'REPUBLICAN')]['totalvotes'].values\n",
    "vote_percentage = votes / total_votes"
   ]
  },
  {
   "cell_type": "code",
   "execution_count": 15,
   "id": "96cbf6f7",
   "metadata": {},
   "outputs": [
    {
     "name": "stderr",
     "output_type": "stream",
     "text": [
      "C:\\Users\\alanr\\AppData\\Local\\Packages\\PythonSoftwareFoundation.Python.3.12_qbz5n2kfra8p0\\LocalCache\\local-packages\\Python312\\site-packages\\deap\\creator.py:185: RuntimeWarning: A class named 'FitnessMin' has already been created and it will be overwritten. Consider deleting previous creation of that class or rename it.\n",
      "  warnings.warn(\"A class named '{0}' has already been created and it \"\n",
      "C:\\Users\\alanr\\AppData\\Local\\Packages\\PythonSoftwareFoundation.Python.3.12_qbz5n2kfra8p0\\LocalCache\\local-packages\\Python312\\site-packages\\deap\\creator.py:185: RuntimeWarning: A class named 'Individual' has already been created and it will be overwritten. Consider deleting previous creation of that class or rename it.\n",
      "  warnings.warn(\"A class named '{0}' has already been created and it \"\n"
     ]
    },
    {
     "name": "stdout",
     "output_type": "stream",
     "text": [
      "gen\tnevals\n",
      "0  \t50    \n",
      "1  \t25    \n",
      "2  \t43    \n",
      "3  \t38    \n",
      "4  \t34    \n",
      "5  \t37    \n",
      "6  \t40    \n",
      "7  \t37    \n",
      "8  \t40    \n",
      "9  \t41    \n",
      "10 \t42    \n",
      "11 \t35    \n",
      "12 \t36    \n",
      "13 \t34    \n",
      "14 \t36    \n",
      "15 \t36    \n",
      "16 \t42    \n",
      "17 \t37    \n",
      "18 \t35    \n",
      "19 \t36    \n",
      "20 \t32    \n",
      "21 \t37    \n",
      "22 \t45    \n",
      "23 \t35    \n",
      "24 \t45    \n",
      "25 \t36    \n",
      "26 \t39    \n",
      "27 \t34    \n",
      "28 \t40    \n",
      "29 \t35    \n",
      "30 \t43    \n",
      "31 \t36    \n",
      "32 \t34    \n",
      "33 \t37    \n",
      "34 \t36    \n",
      "35 \t38    \n",
      "36 \t33    \n",
      "37 \t36    \n",
      "38 \t36    \n",
      "39 \t40    \n",
      "40 \t38    \n",
      "41 \t31    \n",
      "42 \t42    \n",
      "43 \t39    \n",
      "44 \t37    \n",
      "45 \t32    \n",
      "46 \t36    \n",
      "47 \t37    \n",
      "48 \t41    \n",
      "49 \t43    \n",
      "50 \t38    \n",
      "51 \t40    \n",
      "52 \t42    \n",
      "53 \t35    \n",
      "54 \t34    \n",
      "55 \t29    \n",
      "56 \t39    \n",
      "57 \t46    \n",
      "58 \t39    \n",
      "59 \t34    \n",
      "60 \t36    \n",
      "61 \t41    \n",
      "62 \t35    \n",
      "63 \t34    \n",
      "64 \t39    \n",
      "65 \t37    \n",
      "66 \t33    \n",
      "67 \t37    \n",
      "68 \t34    \n",
      "69 \t39    \n",
      "70 \t34    \n",
      "71 \t41    \n",
      "72 \t39    \n",
      "73 \t37    \n",
      "74 \t40    \n",
      "75 \t37    \n",
      "76 \t35    \n",
      "77 \t40    \n",
      "78 \t37    \n",
      "79 \t34    \n",
      "80 \t39    \n",
      "81 \t36    \n",
      "82 \t40    \n",
      "83 \t41    \n",
      "84 \t37    \n",
      "85 \t42    \n",
      "86 \t35    \n",
      "87 \t36    \n",
      "88 \t38    \n",
      "89 \t33    \n",
      "90 \t35    \n",
      "91 \t39    \n",
      "92 \t38    \n",
      "93 \t40    \n",
      "94 \t29    \n",
      "95 \t44    \n",
      "96 \t41    \n",
      "97 \t44    \n",
      "98 \t37    \n",
      "99 \t38    \n",
      "100\t48    \n",
      "Best parameters from GA: beta=0.6786447370381923, gamma=0.691741016475063\n"
     ]
    }
   ],
   "source": [
    "N = 10000\n",
    "best_params = run_ga(vote_percentage, year, N)\n",
    "beta, gamma = best_params\n",
    "I0 = vote_percentage[0]\n",
    "S0 = 1 - I0\n",
    "R0 = 0\n",
    "print(f\"Best parameters from GA: beta={beta}, gamma={gamma}\")\n",
    "params, covariance = curve_fit(fit_sir_model, year, vote_percentage, p0=[0.1, 0.1, S0, I0, R0], bounds=(0, [1, 1, 1, 1, 1]))\n",
    "ea_fit = (fit_sir_model(year, *params))"
   ]
  },
  {
   "cell_type": "code",
   "execution_count": null,
   "id": "139d0ab9",
   "metadata": {},
   "outputs": [
    {
     "data": {
      "image/png": "[encoded data removed]",
      "text/plain": [
       "<Figure size 640x480 with 1 Axes>"
      ]
     },
     "metadata": {},
     "output_type": "display_data"
    }
   ],
   "source": [
    "plt.plot(year, ea_fit, 'r-', label='Fitted SIR Model')\n",
    "plt.plot(year, vote_percentage, 'ko', label='Test Data')\n",
    "plt.xlabel('Year')\n",
    "plt.ylabel('Vote Percentage')\n",
    "plt.ylim(0, 1)\n",
    "plt.legend()\n",
    "plt.title('Parameter Estimation and Curve Fitting for OREGON')\n",
    "plt.show()"
   ]
  }
 ],
 "metadata": {
  "kernelspec": {
   "display_name": "Python 3",
   "language": "python",
   "name": "python3"
  },
  "language_info": {
   "codemirror_mode": {
    "name": "ipython",
    "version": 3
   },
   "file_extension": ".py",
   "mimetype": "text/x-python",
   "name": "python",
   "nbconvert_exporter": "python",
   "pygments_lexer": "ipython3",
   "version": "3.12.10"
  }
 },
 "nbformat": 4,
 "nbformat_minor": 5
}

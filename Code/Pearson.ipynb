{
 "cells": [
  {
   "cell_type": "code",
   "execution_count": 1,
   "id": "c3fecdd7",
   "metadata": {},
   "outputs": [],
   "source": [
    "import pandas as pd\n",
    "import numpy as np"
   ]
  },
  {
   "cell_type": "code",
   "execution_count": 2,
   "id": "3a88b068",
   "metadata": {},
   "outputs": [],
   "source": [
    "df = pd.read_csv(\"1976-2020-senate.csv\")"
   ]
  },
  {
   "cell_type": "code",
   "execution_count": 3,
   "id": "782ac9fb",
   "metadata": {},
   "outputs": [],
   "source": [
    "selected_states = ['NEW HAMPSHIRE', 'NORTH CAROLINA', 'OKLAHOMA', 'OREGON', 'SOUTH CAROLINA', 'SOUTH DAKOTA']\n",
    "filtered_df = df[df['state'].isin(selected_states)]"
   ]
  },
  {
   "cell_type": "code",
   "execution_count": 4,
   "id": "63b9ad2b",
   "metadata": {},
   "outputs": [],
   "source": [
    "states = filtered_df['state'].unique()\n",
    "party_order = ['REPUBLICAN', 'DEMOCRAT']\n",
    "colors = {'REPUBLICAN': 'red', 'DEMOCRAT': 'blue'} # BONUS \n",
    "df_dict = {}\n",
    "\n",
    "plot_index = 0\n",
    "for state in states:\n",
    "    for party in party_order:\n",
    "        state_party_data = df[(df['state'] == state) & (df['party_simplified'] == party)]\n",
    "        state_party_data = state_party_data[state_party_data['writein'] == False]\n",
    "        df_dict[(state, party)] = state_party_data"
   ]
  },
  {
   "cell_type": "code",
   "execution_count": 5,
   "id": "3fedce5c",
   "metadata": {},
   "outputs": [
    {
     "name": "stdout",
     "output_type": "stream",
     "text": [
      "Pearson Correlation: 0.01222907607251956\n"
     ]
    }
   ],
   "source": [
    "year1 = df_dict[('NEW HAMPSHIRE', 'REPUBLICAN')]['year'].values\n",
    "votes1 = df_dict[('NEW HAMPSHIRE', 'REPUBLICAN')]['candidatevotes'].values\n",
    "total_votes1 = df_dict[('NEW HAMPSHIRE', 'REPUBLICAN')]['totalvotes'].values\n",
    "vote_percentage1 = votes1 / total_votes1\n",
    "\n",
    "year = df_dict[('OREGON', 'REPUBLICAN')]['year'].values\n",
    "votes = df_dict[('OREGON', 'REPUBLICAN')]['candidatevotes'].values\n",
    "total_votes = df_dict[('OREGON', 'REPUBLICAN')]['totalvotes'].values\n",
    "vote_percentage = votes / total_votes\n",
    "\n",
    "correlation = np.corrcoef(vote_percentage, vote_percentage1)[0, 1]\n",
    "print(\"Pearson Correlation:\", correlation)"
   ]
  }
 ],
 "metadata": {
  "kernelspec": {
   "display_name": "Python 3",
   "language": "python",
   "name": "python3"
  },
  "language_info": {
   "codemirror_mode": {
    "name": "ipython",
    "version": 3
   },
   "file_extension": ".py",
   "mimetype": "text/x-python",
   "name": "python",
   "nbconvert_exporter": "python",
   "pygments_lexer": "ipython3",
   "version": "3.12.10"
  }
 },
 "nbformat": 4,
 "nbformat_minor": 5
}
